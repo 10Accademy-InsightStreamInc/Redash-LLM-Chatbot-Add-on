{
 "cells": [
  {
   "cell_type": "code",
   "execution_count": 1,
   "metadata": {},
   "outputs": [],
   "source": [
    "import pandas as pd \n",
    "import os, sys"
   ]
  },
  {
   "cell_type": "code",
   "execution_count": 2,
   "metadata": {},
   "outputs": [],
   "source": [
    "os.chdir(\"..\")"
   ]
  },
  {
   "cell_type": "code",
   "execution_count": 3,
   "metadata": {},
   "outputs": [
    {
     "data": {
      "text/plain": [
       "'c:\\\\Users\\\\user\\\\Downloads\\\\ten_academy\\\\week3\\\\Redash-LLM-Chatbot-Add-on'"
      ]
     },
     "execution_count": 3,
     "metadata": {},
     "output_type": "execute_result"
    }
   ],
   "source": [
    "os.getcwd()"
   ]
  },
  {
   "cell_type": "code",
   "execution_count": 4,
   "metadata": {},
   "outputs": [],
   "source": [
    "from utils.file_manuplation import ZipExtractor\n",
    "from db.db_conn import DatabaseLoader"
   ]
  },
  {
   "cell_type": "code",
   "execution_count": 5,
   "metadata": {},
   "outputs": [
    {
     "name": "stdout",
     "output_type": "stream",
     "text": [
      "Extracting files from data/unextracted_data to data/extracted_data. and current working directory is c:\\Users\\user\\Downloads\\ten_academy\\week3\\Redash-LLM-Chatbot-Add-on\n"
     ]
    }
   ],
   "source": [
    "extractor = ZipExtractor(folder_path=\"data/unextracted_data\", output_directory=\"data/extracted_data\")"
   ]
  },
  {
   "cell_type": "code",
   "execution_count": 6,
   "metadata": {},
   "outputs": [],
   "source": [
    "db = DatabaseLoader()"
   ]
  },
  {
   "cell_type": "code",
   "execution_count": 7,
   "metadata": {},
   "outputs": [
    {
     "name": "stdout",
     "output_type": "stream",
     "text": [
      "Connected to the database.\n"
     ]
    },
    {
     "data": {
      "text/plain": [
       "<sqlalchemy.engine.base.Connection at 0x16992c8d970>"
      ]
     },
     "execution_count": 7,
     "metadata": {},
     "output_type": "execute_result"
    }
   ],
   "source": [
    "db.connect()"
   ]
  },
  {
   "cell_type": "code",
   "execution_count": 8,
   "metadata": {},
   "outputs": [
    {
     "name": "stdout",
     "output_type": "stream",
     "text": [
      "Extracting data/unextracted_data\\Cities.zip to data/extracted_data\\Cities.\n",
      "Extracting data/unextracted_data\\Content type.zip to data/extracted_data\\Content type.\n",
      "Extracting data/unextracted_data\\Device type.zip to data/extracted_data\\Device type.\n",
      "Extracting data/unextracted_data\\Geography.zip to data/extracted_data\\Geography.\n",
      "Extracting data/unextracted_data\\New and returning viewers.zip to data/extracted_data\\New and returning viewers.\n",
      "Extracting data/unextracted_data\\Operating system.zip to data/extracted_data\\Operating system.\n",
      "Extracting data/unextracted_data\\Sharing service.zip to data/extracted_data\\Sharing service.\n",
      "Extracting data/unextracted_data\\Subscription source.zip to data/extracted_data\\Subscription source.\n",
      "Extracting data/unextracted_data\\Subscription status.zip to data/extracted_data\\Subscription status.\n",
      "Extracting data/unextracted_data\\Subtitles and CC.zip to data/extracted_data\\Subtitles and CC.\n",
      "Extracting data/unextracted_data\\Traffic source.zip to data/extracted_data\\Traffic source.\n",
      "Extracting data/unextracted_data\\Viewer age.zip to data/extracted_data\\Viewer age.\n",
      "Extracting data/unextracted_data\\Viewer gender.zip to data/extracted_data\\Viewer gender.\n",
      "Extracting data/unextracted_data\\Viewership by Date.zip to data/extracted_data\\Viewership by Date.\n",
      "Extraction completed.\n"
     ]
    }
   ],
   "source": [
    "extractor.extract_files()"
   ]
  },
  {
   "cell_type": "markdown",
   "metadata": {},
   "source": [
    "Seems Like all of the datas extracted cointain the same 3 csv file names\n",
    "- Chart data\n",
    "- Table Data\n",
    "- Totals"
   ]
  },
  {
   "cell_type": "code",
   "execution_count": 9,
   "metadata": {},
   "outputs": [
    {
     "data": {
      "text/plain": [
       "'c:\\\\Users\\\\user\\\\Downloads\\\\ten_academy\\\\week3\\\\Redash-LLM-Chatbot-Add-on'"
      ]
     },
     "execution_count": 9,
     "metadata": {},
     "output_type": "execute_result"
    }
   ],
   "source": [
    "os.getcwd()"
   ]
  },
  {
   "cell_type": "code",
   "execution_count": 8,
   "metadata": {},
   "outputs": [],
   "source": [
    "city_chart = pd.read_csv(\"data/extracted_data/Cities/Chart data.csv\")\n",
    "city_total = pd.read_csv(\"data/extracted_data/Cities/Totals.csv\")\n",
    "city_table = pd.read_csv(\"data/extracted_data/Cities/Table DATA.csv\")"
   ]
  },
  {
   "cell_type": "code",
   "execution_count": 13,
   "metadata": {},
   "outputs": [
    {
     "data": {
      "text/plain": [
       "Date         0\n",
       "Cities       0\n",
       "City name    0\n",
       "Views        0\n",
       "dtype: int64"
      ]
     },
     "execution_count": 13,
     "metadata": {},
     "output_type": "execute_result"
    }
   ],
   "source": [
    "city_chart.isna().sum()"
   ]
  },
  {
   "cell_type": "code",
   "execution_count": 87,
   "metadata": {},
   "outputs": [
    {
     "data": {
      "text/plain": [
       "Date     0\n",
       "Views    0\n",
       "dtype: int64"
      ]
     },
     "execution_count": 87,
     "metadata": {},
     "output_type": "execute_result"
    }
   ],
   "source": [
    "city_total.isna().sum()"
   ]
  },
  {
   "cell_type": "code",
   "execution_count": 62,
   "metadata": {},
   "outputs": [
    {
     "data": {
      "text/html": [
       "<div>\n",
       "<style scoped>\n",
       "    .dataframe tbody tr th:only-of-type {\n",
       "        vertical-align: middle;\n",
       "    }\n",
       "\n",
       "    .dataframe tbody tr th {\n",
       "        vertical-align: top;\n",
       "    }\n",
       "\n",
       "    .dataframe thead th {\n",
       "        text-align: right;\n",
       "    }\n",
       "</style>\n",
       "<table border=\"1\" class=\"dataframe\">\n",
       "  <thead>\n",
       "    <tr style=\"text-align: right;\">\n",
       "      <th></th>\n",
       "      <th>Date</th>\n",
       "      <th>Cities</th>\n",
       "      <th>City name</th>\n",
       "      <th>Views</th>\n",
       "    </tr>\n",
       "  </thead>\n",
       "  <tbody>\n",
       "    <tr>\n",
       "      <th>0</th>\n",
       "      <td>2020-06-28</td>\n",
       "      <td>0x164b85cef5ab402d:0x8467b6b037a24d49</td>\n",
       "      <td>Addis Ababa</td>\n",
       "      <td>0</td>\n",
       "    </tr>\n",
       "    <tr>\n",
       "      <th>1</th>\n",
       "      <td>2020-06-29</td>\n",
       "      <td>0x164b85cef5ab402d:0x8467b6b037a24d49</td>\n",
       "      <td>Addis Ababa</td>\n",
       "      <td>0</td>\n",
       "    </tr>\n",
       "    <tr>\n",
       "      <th>2</th>\n",
       "      <td>2020-06-30</td>\n",
       "      <td>0x164b85cef5ab402d:0x8467b6b037a24d49</td>\n",
       "      <td>Addis Ababa</td>\n",
       "      <td>0</td>\n",
       "    </tr>\n",
       "    <tr>\n",
       "      <th>3</th>\n",
       "      <td>2020-07-01</td>\n",
       "      <td>0x164b85cef5ab402d:0x8467b6b037a24d49</td>\n",
       "      <td>Addis Ababa</td>\n",
       "      <td>0</td>\n",
       "    </tr>\n",
       "    <tr>\n",
       "      <th>4</th>\n",
       "      <td>2020-07-02</td>\n",
       "      <td>0x164b85cef5ab402d:0x8467b6b037a24d49</td>\n",
       "      <td>Addis Ababa</td>\n",
       "      <td>0</td>\n",
       "    </tr>\n",
       "  </tbody>\n",
       "</table>\n",
       "</div>"
      ],
      "text/plain": [
       "         Date                                 Cities    City name  Views\n",
       "0  2020-06-28  0x164b85cef5ab402d:0x8467b6b037a24d49  Addis Ababa      0\n",
       "1  2020-06-29  0x164b85cef5ab402d:0x8467b6b037a24d49  Addis Ababa      0\n",
       "2  2020-06-30  0x164b85cef5ab402d:0x8467b6b037a24d49  Addis Ababa      0\n",
       "3  2020-07-01  0x164b85cef5ab402d:0x8467b6b037a24d49  Addis Ababa      0\n",
       "4  2020-07-02  0x164b85cef5ab402d:0x8467b6b037a24d49  Addis Ababa      0"
      ]
     },
     "execution_count": 62,
     "metadata": {},
     "output_type": "execute_result"
    }
   ],
   "source": [
    "city_chart.head()"
   ]
  },
  {
   "cell_type": "code",
   "execution_count": 65,
   "metadata": {},
   "outputs": [],
   "source": [
    "# sum the number of views by date\n",
    "city_chart_sum = city_chart.groupby('Date').sum()"
   ]
  },
  {
   "cell_type": "code",
   "execution_count": 63,
   "metadata": {},
   "outputs": [],
   "source": [
    "#convert obdect column to datetime\n",
    "city_chart['Date'] = pd.to_datetime(city_chart['Date'])"
   ]
  },
  {
   "cell_type": "code",
   "execution_count": 85,
   "metadata": {},
   "outputs": [
    {
     "name": "stdout",
     "output_type": "stream",
     "text": [
      "Date\n",
      "2020-06-28     0\n",
      "2020-06-29     0\n",
      "2020-06-30     0\n",
      "2020-07-01     0\n",
      "2020-07-02     0\n",
      "              ..\n",
      "2023-12-24     0\n",
      "2023-12-25     0\n",
      "2023-12-26    15\n",
      "2023-12-27     0\n",
      "2023-12-28     0\n",
      "Name: Views, Length: 1279, dtype: int64\n"
     ]
    }
   ],
   "source": [
    "t = city_chart.groupby('Date')['Views'].sum()\n",
    "print(t)"
   ]
  },
  {
   "cell_type": "code",
   "execution_count": 64,
   "metadata": {},
   "outputs": [
    {
     "data": {
      "text/plain": [
       "Date         datetime64[ns]\n",
       "Cities               object\n",
       "City name            object\n",
       "Views                 int64\n",
       "dtype: object"
      ]
     },
     "execution_count": 64,
     "metadata": {},
     "output_type": "execute_result"
    }
   ],
   "source": [
    "city_chart.dtypes"
   ]
  },
  {
   "cell_type": "code",
   "execution_count": 61,
   "metadata": {},
   "outputs": [
    {
     "data": {
      "text/html": [
       "<div>\n",
       "<style scoped>\n",
       "    .dataframe tbody tr th:only-of-type {\n",
       "        vertical-align: middle;\n",
       "    }\n",
       "\n",
       "    .dataframe tbody tr th {\n",
       "        vertical-align: top;\n",
       "    }\n",
       "\n",
       "    .dataframe thead th {\n",
       "        text-align: right;\n",
       "    }\n",
       "</style>\n",
       "<table border=\"1\" class=\"dataframe\">\n",
       "  <thead>\n",
       "    <tr style=\"text-align: right;\">\n",
       "      <th></th>\n",
       "      <th>Cities</th>\n",
       "      <th>City name</th>\n",
       "      <th>Views</th>\n",
       "    </tr>\n",
       "    <tr>\n",
       "      <th>Date</th>\n",
       "      <th></th>\n",
       "      <th></th>\n",
       "      <th></th>\n",
       "    </tr>\n",
       "  </thead>\n",
       "  <tbody>\n",
       "    <tr>\n",
       "      <th>2020-06-28</th>\n",
       "      <td>0x164b85cef5ab402d:0x8467b6b037a24d490x168e8fd...</td>\n",
       "      <td>Addis AbabaKhartoumQuezon CityBusanManchester</td>\n",
       "      <td>0</td>\n",
       "    </tr>\n",
       "    <tr>\n",
       "      <th>2020-06-29</th>\n",
       "      <td>0x164b85cef5ab402d:0x8467b6b037a24d490x168e8fd...</td>\n",
       "      <td>Addis AbabaKhartoumQuezon CityBusanManchester</td>\n",
       "      <td>0</td>\n",
       "    </tr>\n",
       "    <tr>\n",
       "      <th>2020-06-30</th>\n",
       "      <td>0x164b85cef5ab402d:0x8467b6b037a24d490x168e8fd...</td>\n",
       "      <td>Addis AbabaKhartoumQuezon CityBusanManchester</td>\n",
       "      <td>0</td>\n",
       "    </tr>\n",
       "    <tr>\n",
       "      <th>2020-07-01</th>\n",
       "      <td>0x164b85cef5ab402d:0x8467b6b037a24d490x168e8fd...</td>\n",
       "      <td>Addis AbabaKhartoumQuezon CityBusanManchester</td>\n",
       "      <td>0</td>\n",
       "    </tr>\n",
       "    <tr>\n",
       "      <th>2020-07-02</th>\n",
       "      <td>0x164b85cef5ab402d:0x8467b6b037a24d490x168e8fd...</td>\n",
       "      <td>Addis AbabaKhartoumQuezon CityBusanManchester</td>\n",
       "      <td>0</td>\n",
       "    </tr>\n",
       "  </tbody>\n",
       "</table>\n",
       "</div>"
      ],
      "text/plain": [
       "                                                       Cities  \\\n",
       "Date                                                            \n",
       "2020-06-28  0x164b85cef5ab402d:0x8467b6b037a24d490x168e8fd...   \n",
       "2020-06-29  0x164b85cef5ab402d:0x8467b6b037a24d490x168e8fd...   \n",
       "2020-06-30  0x164b85cef5ab402d:0x8467b6b037a24d490x168e8fd...   \n",
       "2020-07-01  0x164b85cef5ab402d:0x8467b6b037a24d490x168e8fd...   \n",
       "2020-07-02  0x164b85cef5ab402d:0x8467b6b037a24d490x168e8fd...   \n",
       "\n",
       "                                                City name  Views  \n",
       "Date                                                              \n",
       "2020-06-28  Addis AbabaKhartoumQuezon CityBusanManchester      0  \n",
       "2020-06-29  Addis AbabaKhartoumQuezon CityBusanManchester      0  \n",
       "2020-06-30  Addis AbabaKhartoumQuezon CityBusanManchester      0  \n",
       "2020-07-01  Addis AbabaKhartoumQuezon CityBusanManchester      0  \n",
       "2020-07-02  Addis AbabaKhartoumQuezon CityBusanManchester      0  "
      ]
     },
     "execution_count": 61,
     "metadata": {},
     "output_type": "execute_result"
    }
   ],
   "source": [
    "city_chart_sum.head()"
   ]
  },
  {
   "cell_type": "code",
   "execution_count": 14,
   "metadata": {},
   "outputs": [
    {
     "data": {
      "text/html": [
       "<div>\n",
       "<style scoped>\n",
       "    .dataframe tbody tr th:only-of-type {\n",
       "        vertical-align: middle;\n",
       "    }\n",
       "\n",
       "    .dataframe tbody tr th {\n",
       "        vertical-align: top;\n",
       "    }\n",
       "\n",
       "    .dataframe thead th {\n",
       "        text-align: right;\n",
       "    }\n",
       "</style>\n",
       "<table border=\"1\" class=\"dataframe\">\n",
       "  <thead>\n",
       "    <tr style=\"text-align: right;\">\n",
       "      <th></th>\n",
       "      <th>Date</th>\n",
       "      <th>Views</th>\n",
       "    </tr>\n",
       "  </thead>\n",
       "  <tbody>\n",
       "    <tr>\n",
       "      <th>0</th>\n",
       "      <td>2020-06-28</td>\n",
       "      <td>1</td>\n",
       "    </tr>\n",
       "    <tr>\n",
       "      <th>1</th>\n",
       "      <td>2020-06-29</td>\n",
       "      <td>72</td>\n",
       "    </tr>\n",
       "    <tr>\n",
       "      <th>2</th>\n",
       "      <td>2020-06-30</td>\n",
       "      <td>76</td>\n",
       "    </tr>\n",
       "    <tr>\n",
       "      <th>3</th>\n",
       "      <td>2020-07-01</td>\n",
       "      <td>70</td>\n",
       "    </tr>\n",
       "    <tr>\n",
       "      <th>4</th>\n",
       "      <td>2020-07-02</td>\n",
       "      <td>57</td>\n",
       "    </tr>\n",
       "  </tbody>\n",
       "</table>\n",
       "</div>"
      ],
      "text/plain": [
       "         Date  Views\n",
       "0  2020-06-28      1\n",
       "1  2020-06-29     72\n",
       "2  2020-06-30     76\n",
       "3  2020-07-01     70\n",
       "4  2020-07-02     57"
      ]
     },
     "execution_count": 14,
     "metadata": {},
     "output_type": "execute_result"
    }
   ],
   "source": [
    "city_total.head()"
   ]
  },
  {
   "cell_type": "code",
   "execution_count": 14,
   "metadata": {},
   "outputs": [],
   "source": [
    "city_chart_table_merge = pd.merge(city_chart, city_table, on=\"City name\", how=\"left\")"
   ]
  },
  {
   "cell_type": "code",
   "execution_count": 15,
   "metadata": {},
   "outputs": [],
   "source": [
    "city_chart_table_merge.drop('Cities_y', axis=1, inplace=True)"
   ]
  },
  {
   "cell_type": "code",
   "execution_count": 16,
   "metadata": {},
   "outputs": [],
   "source": [
    "city_chart_table_merge.rename(columns={'Cities_x': 'Cities', \n",
    "                                       'Views_y': 'Views per City', \n",
    "                                       'Views_x': 'Views per Date',\n",
    "                                       'Watch time (hours)': 'Watch time (hours) per City',\n",
    "                                       'Average view duration': 'Average view duration per City',\n",
    "                                       'Geography': 'Country Code',\n",
    "                                       'Geography.1': 'Country and City Code',\n",
    "                                       }, inplace=True)"
   ]
  },
  {
   "cell_type": "code",
   "execution_count": 21,
   "metadata": {},
   "outputs": [],
   "source": [
    "city_chart_table_merge['Date'] = pd.to_datetime(city_chart_table_merge['Date'])"
   ]
  },
  {
   "cell_type": "code",
   "execution_count": 24,
   "metadata": {},
   "outputs": [
    {
     "data": {
      "text/plain": [
       "Date                              0\n",
       "Cities                            0\n",
       "City name                         0\n",
       "Views per Date                    0\n",
       "Country Code                      0\n",
       "Country and City Code             0\n",
       "Views per City                    0\n",
       "Watch time (hours) per City       0\n",
       "Average view duration per City    0\n",
       "dtype: int64"
      ]
     },
     "execution_count": 24,
     "metadata": {},
     "output_type": "execute_result"
    }
   ],
   "source": [
    "city_chart_table_merge.isna().sum()"
   ]
  },
  {
   "cell_type": "code",
   "execution_count": 22,
   "metadata": {},
   "outputs": [
    {
     "data": {
      "text/plain": [
       "Date                              datetime64[ns]\n",
       "Cities                                    object\n",
       "City name                                 object\n",
       "Views per Date                             int64\n",
       "Country Code                              object\n",
       "Country and City Code                     object\n",
       "Views per City                             int64\n",
       "Watch time (hours) per City              float64\n",
       "Average view duration per City            object\n",
       "dtype: object"
      ]
     },
     "execution_count": 22,
     "metadata": {},
     "output_type": "execute_result"
    }
   ],
   "source": [
    "city_chart_table_merge.dtypes"
   ]
  },
  {
   "cell_type": "code",
   "execution_count": 23,
   "metadata": {},
   "outputs": [
    {
     "data": {
      "text/plain": [
       "395"
      ]
     },
     "execution_count": 23,
     "metadata": {},
     "output_type": "execute_result"
    }
   ],
   "source": [
    "city_chart_table_merge.to_sql(\"Cities\", db.engine, if_exists='append', index=False)"
   ]
  },
  {
   "cell_type": "code",
   "execution_count": 11,
   "metadata": {},
   "outputs": [
    {
     "name": "stdout",
     "output_type": "stream",
     "text": [
      "Data merge and write completed.\n"
     ]
    }
   ],
   "source": [
    "dict_merged_data = extractor.merge_csv_files(db.engine)"
   ]
  },
  {
   "cell_type": "code",
   "execution_count": 12,
   "metadata": {},
   "outputs": [
    {
     "data": {
      "text/plain": [
       "dict_keys(['Cities', 'Content type', 'Device type', 'Geography', 'New and returning viewers', 'Operating system', 'Sharing service', 'Subscription source', 'Subscription status', 'Subtitles and CC', 'Traffic source'])"
      ]
     },
     "execution_count": 12,
     "metadata": {},
     "output_type": "execute_result"
    }
   ],
   "source": [
    "dict_merged_data.keys()"
   ]
  },
  {
   "cell_type": "code",
   "execution_count": 15,
   "metadata": {},
   "outputs": [
    {
     "data": {
      "text/html": [
       "<div>\n",
       "<style scoped>\n",
       "    .dataframe tbody tr th:only-of-type {\n",
       "        vertical-align: middle;\n",
       "    }\n",
       "\n",
       "    .dataframe tbody tr th {\n",
       "        vertical-align: top;\n",
       "    }\n",
       "\n",
       "    .dataframe thead th {\n",
       "        text-align: right;\n",
       "    }\n",
       "</style>\n",
       "<table border=\"1\" class=\"dataframe\">\n",
       "  <thead>\n",
       "    <tr style=\"text-align: right;\">\n",
       "      <th></th>\n",
       "      <th>Date</th>\n",
       "      <th>Cities</th>\n",
       "      <th>City name_x</th>\n",
       "      <th>Views_x</th>\n",
       "      <th>City name_y</th>\n",
       "      <th>Geography</th>\n",
       "      <th>Geography.1</th>\n",
       "      <th>Views_y</th>\n",
       "      <th>Watch time (hours)</th>\n",
       "      <th>Average view duration</th>\n",
       "    </tr>\n",
       "  </thead>\n",
       "  <tbody>\n",
       "    <tr>\n",
       "      <th>0</th>\n",
       "      <td>2020-06-28</td>\n",
       "      <td>0x164b85cef5ab402d:0x8467b6b037a24d49</td>\n",
       "      <td>Addis Ababa</td>\n",
       "      <td>0</td>\n",
       "      <td>Addis Ababa</td>\n",
       "      <td>ET</td>\n",
       "      <td>ET-AA</td>\n",
       "      <td>1252</td>\n",
       "      <td>127.5042</td>\n",
       "      <td>0:06:06</td>\n",
       "    </tr>\n",
       "    <tr>\n",
       "      <th>1</th>\n",
       "      <td>2020-06-29</td>\n",
       "      <td>0x164b85cef5ab402d:0x8467b6b037a24d49</td>\n",
       "      <td>Addis Ababa</td>\n",
       "      <td>0</td>\n",
       "      <td>Addis Ababa</td>\n",
       "      <td>ET</td>\n",
       "      <td>ET-AA</td>\n",
       "      <td>1252</td>\n",
       "      <td>127.5042</td>\n",
       "      <td>0:06:06</td>\n",
       "    </tr>\n",
       "    <tr>\n",
       "      <th>2</th>\n",
       "      <td>2020-06-30</td>\n",
       "      <td>0x164b85cef5ab402d:0x8467b6b037a24d49</td>\n",
       "      <td>Addis Ababa</td>\n",
       "      <td>0</td>\n",
       "      <td>Addis Ababa</td>\n",
       "      <td>ET</td>\n",
       "      <td>ET-AA</td>\n",
       "      <td>1252</td>\n",
       "      <td>127.5042</td>\n",
       "      <td>0:06:06</td>\n",
       "    </tr>\n",
       "    <tr>\n",
       "      <th>3</th>\n",
       "      <td>2020-07-01</td>\n",
       "      <td>0x164b85cef5ab402d:0x8467b6b037a24d49</td>\n",
       "      <td>Addis Ababa</td>\n",
       "      <td>0</td>\n",
       "      <td>Addis Ababa</td>\n",
       "      <td>ET</td>\n",
       "      <td>ET-AA</td>\n",
       "      <td>1252</td>\n",
       "      <td>127.5042</td>\n",
       "      <td>0:06:06</td>\n",
       "    </tr>\n",
       "    <tr>\n",
       "      <th>4</th>\n",
       "      <td>2020-07-02</td>\n",
       "      <td>0x164b85cef5ab402d:0x8467b6b037a24d49</td>\n",
       "      <td>Addis Ababa</td>\n",
       "      <td>0</td>\n",
       "      <td>Addis Ababa</td>\n",
       "      <td>ET</td>\n",
       "      <td>ET-AA</td>\n",
       "      <td>1252</td>\n",
       "      <td>127.5042</td>\n",
       "      <td>0:06:06</td>\n",
       "    </tr>\n",
       "  </tbody>\n",
       "</table>\n",
       "</div>"
      ],
      "text/plain": [
       "         Date                                 Cities  City name_x  Views_x  \\\n",
       "0  2020-06-28  0x164b85cef5ab402d:0x8467b6b037a24d49  Addis Ababa        0   \n",
       "1  2020-06-29  0x164b85cef5ab402d:0x8467b6b037a24d49  Addis Ababa        0   \n",
       "2  2020-06-30  0x164b85cef5ab402d:0x8467b6b037a24d49  Addis Ababa        0   \n",
       "3  2020-07-01  0x164b85cef5ab402d:0x8467b6b037a24d49  Addis Ababa        0   \n",
       "4  2020-07-02  0x164b85cef5ab402d:0x8467b6b037a24d49  Addis Ababa        0   \n",
       "\n",
       "   City name_y Geography Geography.1  Views_y  Watch time (hours)  \\\n",
       "0  Addis Ababa        ET       ET-AA     1252            127.5042   \n",
       "1  Addis Ababa        ET       ET-AA     1252            127.5042   \n",
       "2  Addis Ababa        ET       ET-AA     1252            127.5042   \n",
       "3  Addis Ababa        ET       ET-AA     1252            127.5042   \n",
       "4  Addis Ababa        ET       ET-AA     1252            127.5042   \n",
       "\n",
       "  Average view duration  \n",
       "0               0:06:06  \n",
       "1               0:06:06  \n",
       "2               0:06:06  \n",
       "3               0:06:06  \n",
       "4               0:06:06  "
      ]
     },
     "execution_count": 15,
     "metadata": {},
     "output_type": "execute_result"
    }
   ],
   "source": [
    "dict_merged_data.get('Cities').head()"
   ]
  },
  {
   "cell_type": "code",
   "execution_count": 14,
   "metadata": {},
   "outputs": [],
   "source": [
    "for table_name, merged_data in dict_merged_data.items():\n",
    "    # Write the merged data to a database table\n",
    "    merged_data.to_sql(table_name, db.engine, if_exists=\"replace\", index=False)"
   ]
  },
  {
   "cell_type": "code",
   "execution_count": 8,
   "metadata": {},
   "outputs": [],
   "source": [
    "from sqlalchemy import inspect"
   ]
  },
  {
   "cell_type": "code",
   "execution_count": 9,
   "metadata": {},
   "outputs": [],
   "source": [
    "inspector = inspect(db.engine) "
   ]
  },
  {
   "cell_type": "code",
   "execution_count": 10,
   "metadata": {},
   "outputs": [],
   "source": [
    "tables = inspector.get_table_names()"
   ]
  },
  {
   "cell_type": "code",
   "execution_count": 11,
   "metadata": {},
   "outputs": [],
   "source": [
    "table_column_dict = {}\n",
    "\n",
    "for table in tables:\n",
    "    table_column_dict[table] = inspector.get_columns(table)"
   ]
  },
  {
   "cell_type": "code",
   "execution_count": 12,
   "metadata": {},
   "outputs": [
    {
     "data": {
      "text/plain": [
       "{'Cities': [{'name': 'Date',\n",
       "   'type': TEXT(),\n",
       "   'nullable': True,\n",
       "   'default': None,\n",
       "   'autoincrement': False,\n",
       "   'comment': None},\n",
       "  {'name': 'Cities',\n",
       "   'type': TEXT(),\n",
       "   'nullable': True,\n",
       "   'default': None,\n",
       "   'autoincrement': False,\n",
       "   'comment': None},\n",
       "  {'name': 'City name_x',\n",
       "   'type': TEXT(),\n",
       "   'nullable': True,\n",
       "   'default': None,\n",
       "   'autoincrement': False,\n",
       "   'comment': None},\n",
       "  {'name': 'Views_x',\n",
       "   'type': BIGINT(),\n",
       "   'nullable': True,\n",
       "   'default': None,\n",
       "   'autoincrement': False,\n",
       "   'comment': None},\n",
       "  {'name': 'City name_y',\n",
       "   'type': TEXT(),\n",
       "   'nullable': True,\n",
       "   'default': None,\n",
       "   'autoincrement': False,\n",
       "   'comment': None},\n",
       "  {'name': 'Geography',\n",
       "   'type': TEXT(),\n",
       "   'nullable': True,\n",
       "   'default': None,\n",
       "   'autoincrement': False,\n",
       "   'comment': None},\n",
       "  {'name': 'Geography.1',\n",
       "   'type': TEXT(),\n",
       "   'nullable': True,\n",
       "   'default': None,\n",
       "   'autoincrement': False,\n",
       "   'comment': None},\n",
       "  {'name': 'Views_y',\n",
       "   'type': BIGINT(),\n",
       "   'nullable': True,\n",
       "   'default': None,\n",
       "   'autoincrement': False,\n",
       "   'comment': None},\n",
       "  {'name': 'Watch time (hours)',\n",
       "   'type': DOUBLE_PRECISION(precision=53),\n",
       "   'nullable': True,\n",
       "   'default': None,\n",
       "   'autoincrement': False,\n",
       "   'comment': None},\n",
       "  {'name': 'Average view duration',\n",
       "   'type': TEXT(),\n",
       "   'nullable': True,\n",
       "   'default': None,\n",
       "   'autoincrement': False,\n",
       "   'comment': None}],\n",
       " 'Content type': [{'name': 'Date',\n",
       "   'type': TEXT(),\n",
       "   'nullable': True,\n",
       "   'default': None,\n",
       "   'autoincrement': False,\n",
       "   'comment': None},\n",
       "  {'name': 'Content type',\n",
       "   'type': TEXT(),\n",
       "   'nullable': True,\n",
       "   'default': None,\n",
       "   'autoincrement': False,\n",
       "   'comment': None},\n",
       "  {'name': 'Views_x',\n",
       "   'type': BIGINT(),\n",
       "   'nullable': True,\n",
       "   'default': None,\n",
       "   'autoincrement': False,\n",
       "   'comment': None},\n",
       "  {'name': 'Views_y',\n",
       "   'type': BIGINT(),\n",
       "   'nullable': True,\n",
       "   'default': None,\n",
       "   'autoincrement': False,\n",
       "   'comment': None},\n",
       "  {'name': 'Watch time (hours)',\n",
       "   'type': DOUBLE_PRECISION(precision=53),\n",
       "   'nullable': True,\n",
       "   'default': None,\n",
       "   'autoincrement': False,\n",
       "   'comment': None},\n",
       "  {'name': 'Average view duration',\n",
       "   'type': TEXT(),\n",
       "   'nullable': True,\n",
       "   'default': None,\n",
       "   'autoincrement': False,\n",
       "   'comment': None}],\n",
       " 'Device type': [{'name': 'Date',\n",
       "   'type': TEXT(),\n",
       "   'nullable': True,\n",
       "   'default': None,\n",
       "   'autoincrement': False,\n",
       "   'comment': None},\n",
       "  {'name': 'Device type',\n",
       "   'type': TEXT(),\n",
       "   'nullable': True,\n",
       "   'default': None,\n",
       "   'autoincrement': False,\n",
       "   'comment': None},\n",
       "  {'name': 'Views_x',\n",
       "   'type': BIGINT(),\n",
       "   'nullable': True,\n",
       "   'default': None,\n",
       "   'autoincrement': False,\n",
       "   'comment': None},\n",
       "  {'name': 'Views_y',\n",
       "   'type': BIGINT(),\n",
       "   'nullable': True,\n",
       "   'default': None,\n",
       "   'autoincrement': False,\n",
       "   'comment': None},\n",
       "  {'name': 'Watch time (hours)',\n",
       "   'type': DOUBLE_PRECISION(precision=53),\n",
       "   'nullable': True,\n",
       "   'default': None,\n",
       "   'autoincrement': False,\n",
       "   'comment': None},\n",
       "  {'name': 'Average view duration',\n",
       "   'type': TEXT(),\n",
       "   'nullable': True,\n",
       "   'default': None,\n",
       "   'autoincrement': False,\n",
       "   'comment': None}],\n",
       " 'Geography': [{'name': 'Date',\n",
       "   'type': TEXT(),\n",
       "   'nullable': True,\n",
       "   'default': None,\n",
       "   'autoincrement': False,\n",
       "   'comment': None},\n",
       "  {'name': 'Geography',\n",
       "   'type': TEXT(),\n",
       "   'nullable': True,\n",
       "   'default': None,\n",
       "   'autoincrement': False,\n",
       "   'comment': None},\n",
       "  {'name': 'Views_x',\n",
       "   'type': BIGINT(),\n",
       "   'nullable': True,\n",
       "   'default': None,\n",
       "   'autoincrement': False,\n",
       "   'comment': None},\n",
       "  {'name': 'Views_y',\n",
       "   'type': BIGINT(),\n",
       "   'nullable': True,\n",
       "   'default': None,\n",
       "   'autoincrement': False,\n",
       "   'comment': None},\n",
       "  {'name': 'Watch time (hours)',\n",
       "   'type': DOUBLE_PRECISION(precision=53),\n",
       "   'nullable': True,\n",
       "   'default': None,\n",
       "   'autoincrement': False,\n",
       "   'comment': None},\n",
       "  {'name': 'Average view duration',\n",
       "   'type': TEXT(),\n",
       "   'nullable': True,\n",
       "   'default': None,\n",
       "   'autoincrement': False,\n",
       "   'comment': None}],\n",
       " 'New and returning viewers': [{'name': 'Date',\n",
       "   'type': TEXT(),\n",
       "   'nullable': True,\n",
       "   'default': None,\n",
       "   'autoincrement': False,\n",
       "   'comment': None},\n",
       "  {'name': 'New and returning viewers',\n",
       "   'type': TEXT(),\n",
       "   'nullable': True,\n",
       "   'default': None,\n",
       "   'autoincrement': False,\n",
       "   'comment': None},\n",
       "  {'name': 'Views_x',\n",
       "   'type': BIGINT(),\n",
       "   'nullable': True,\n",
       "   'default': None,\n",
       "   'autoincrement': False,\n",
       "   'comment': None},\n",
       "  {'name': 'Views_y',\n",
       "   'type': BIGINT(),\n",
       "   'nullable': True,\n",
       "   'default': None,\n",
       "   'autoincrement': False,\n",
       "   'comment': None},\n",
       "  {'name': 'Watch time (hours)',\n",
       "   'type': DOUBLE_PRECISION(precision=53),\n",
       "   'nullable': True,\n",
       "   'default': None,\n",
       "   'autoincrement': False,\n",
       "   'comment': None},\n",
       "  {'name': 'Average view duration',\n",
       "   'type': TEXT(),\n",
       "   'nullable': True,\n",
       "   'default': None,\n",
       "   'autoincrement': False,\n",
       "   'comment': None}],\n",
       " 'Operating system': [{'name': 'Date',\n",
       "   'type': TEXT(),\n",
       "   'nullable': True,\n",
       "   'default': None,\n",
       "   'autoincrement': False,\n",
       "   'comment': None},\n",
       "  {'name': 'Operating system',\n",
       "   'type': TEXT(),\n",
       "   'nullable': True,\n",
       "   'default': None,\n",
       "   'autoincrement': False,\n",
       "   'comment': None},\n",
       "  {'name': 'Views_x',\n",
       "   'type': BIGINT(),\n",
       "   'nullable': True,\n",
       "   'default': None,\n",
       "   'autoincrement': False,\n",
       "   'comment': None},\n",
       "  {'name': 'Views_y',\n",
       "   'type': BIGINT(),\n",
       "   'nullable': True,\n",
       "   'default': None,\n",
       "   'autoincrement': False,\n",
       "   'comment': None},\n",
       "  {'name': 'Watch time (hours)',\n",
       "   'type': DOUBLE_PRECISION(precision=53),\n",
       "   'nullable': True,\n",
       "   'default': None,\n",
       "   'autoincrement': False,\n",
       "   'comment': None},\n",
       "  {'name': 'Average view duration',\n",
       "   'type': TEXT(),\n",
       "   'nullable': True,\n",
       "   'default': None,\n",
       "   'autoincrement': False,\n",
       "   'comment': None}],\n",
       " 'Sharing service': [{'name': 'Date',\n",
       "   'type': TEXT(),\n",
       "   'nullable': True,\n",
       "   'default': None,\n",
       "   'autoincrement': False,\n",
       "   'comment': None},\n",
       "  {'name': 'Sharing service',\n",
       "   'type': TEXT(),\n",
       "   'nullable': True,\n",
       "   'default': None,\n",
       "   'autoincrement': False,\n",
       "   'comment': None},\n",
       "  {'name': 'Shares_x',\n",
       "   'type': BIGINT(),\n",
       "   'nullable': True,\n",
       "   'default': None,\n",
       "   'autoincrement': False,\n",
       "   'comment': None},\n",
       "  {'name': 'Shares_y',\n",
       "   'type': BIGINT(),\n",
       "   'nullable': True,\n",
       "   'default': None,\n",
       "   'autoincrement': False,\n",
       "   'comment': None}],\n",
       " 'Subscription source': [{'name': 'Date',\n",
       "   'type': TEXT(),\n",
       "   'nullable': True,\n",
       "   'default': None,\n",
       "   'autoincrement': False,\n",
       "   'comment': None},\n",
       "  {'name': 'Subscription source',\n",
       "   'type': TEXT(),\n",
       "   'nullable': True,\n",
       "   'default': None,\n",
       "   'autoincrement': False,\n",
       "   'comment': None},\n",
       "  {'name': 'Subscribers_x',\n",
       "   'type': BIGINT(),\n",
       "   'nullable': True,\n",
       "   'default': None,\n",
       "   'autoincrement': False,\n",
       "   'comment': None},\n",
       "  {'name': 'Subscribers_y',\n",
       "   'type': BIGINT(),\n",
       "   'nullable': True,\n",
       "   'default': None,\n",
       "   'autoincrement': False,\n",
       "   'comment': None},\n",
       "  {'name': 'Subscribers gained',\n",
       "   'type': BIGINT(),\n",
       "   'nullable': True,\n",
       "   'default': None,\n",
       "   'autoincrement': False,\n",
       "   'comment': None},\n",
       "  {'name': 'Subscribers lost',\n",
       "   'type': BIGINT(),\n",
       "   'nullable': True,\n",
       "   'default': None,\n",
       "   'autoincrement': False,\n",
       "   'comment': None}],\n",
       " 'Subscription status': [{'name': 'Date',\n",
       "   'type': TEXT(),\n",
       "   'nullable': True,\n",
       "   'default': None,\n",
       "   'autoincrement': False,\n",
       "   'comment': None},\n",
       "  {'name': 'Subscription status',\n",
       "   'type': TEXT(),\n",
       "   'nullable': True,\n",
       "   'default': None,\n",
       "   'autoincrement': False,\n",
       "   'comment': None},\n",
       "  {'name': 'Views_x',\n",
       "   'type': BIGINT(),\n",
       "   'nullable': True,\n",
       "   'default': None,\n",
       "   'autoincrement': False,\n",
       "   'comment': None},\n",
       "  {'name': 'Views_y',\n",
       "   'type': BIGINT(),\n",
       "   'nullable': True,\n",
       "   'default': None,\n",
       "   'autoincrement': False,\n",
       "   'comment': None},\n",
       "  {'name': 'Watch time (hours)',\n",
       "   'type': DOUBLE_PRECISION(precision=53),\n",
       "   'nullable': True,\n",
       "   'default': None,\n",
       "   'autoincrement': False,\n",
       "   'comment': None},\n",
       "  {'name': 'Average view duration',\n",
       "   'type': TEXT(),\n",
       "   'nullable': True,\n",
       "   'default': None,\n",
       "   'autoincrement': False,\n",
       "   'comment': None}],\n",
       " 'Subtitles and CC': [{'name': 'Date',\n",
       "   'type': TEXT(),\n",
       "   'nullable': True,\n",
       "   'default': None,\n",
       "   'autoincrement': False,\n",
       "   'comment': None},\n",
       "  {'name': 'Subtitles and CC',\n",
       "   'type': TEXT(),\n",
       "   'nullable': True,\n",
       "   'default': None,\n",
       "   'autoincrement': False,\n",
       "   'comment': None},\n",
       "  {'name': 'Views_x',\n",
       "   'type': BIGINT(),\n",
       "   'nullable': True,\n",
       "   'default': None,\n",
       "   'autoincrement': False,\n",
       "   'comment': None},\n",
       "  {'name': 'Views_y',\n",
       "   'type': BIGINT(),\n",
       "   'nullable': True,\n",
       "   'default': None,\n",
       "   'autoincrement': False,\n",
       "   'comment': None},\n",
       "  {'name': 'Watch time (hours)',\n",
       "   'type': DOUBLE_PRECISION(precision=53),\n",
       "   'nullable': True,\n",
       "   'default': None,\n",
       "   'autoincrement': False,\n",
       "   'comment': None},\n",
       "  {'name': 'Average view duration',\n",
       "   'type': TEXT(),\n",
       "   'nullable': True,\n",
       "   'default': None,\n",
       "   'autoincrement': False,\n",
       "   'comment': None}],\n",
       " 'Traffic source': [{'name': 'Date',\n",
       "   'type': TEXT(),\n",
       "   'nullable': True,\n",
       "   'default': None,\n",
       "   'autoincrement': False,\n",
       "   'comment': None},\n",
       "  {'name': 'Traffic source',\n",
       "   'type': TEXT(),\n",
       "   'nullable': True,\n",
       "   'default': None,\n",
       "   'autoincrement': False,\n",
       "   'comment': None},\n",
       "  {'name': 'Views_x',\n",
       "   'type': BIGINT(),\n",
       "   'nullable': True,\n",
       "   'default': None,\n",
       "   'autoincrement': False,\n",
       "   'comment': None},\n",
       "  {'name': 'Views_y',\n",
       "   'type': DOUBLE_PRECISION(precision=53),\n",
       "   'nullable': True,\n",
       "   'default': None,\n",
       "   'autoincrement': False,\n",
       "   'comment': None},\n",
       "  {'name': 'Watch time (hours)',\n",
       "   'type': DOUBLE_PRECISION(precision=53),\n",
       "   'nullable': True,\n",
       "   'default': None,\n",
       "   'autoincrement': False,\n",
       "   'comment': None},\n",
       "  {'name': 'Average view duration',\n",
       "   'type': TEXT(),\n",
       "   'nullable': True,\n",
       "   'default': None,\n",
       "   'autoincrement': False,\n",
       "   'comment': None},\n",
       "  {'name': 'Impressions',\n",
       "   'type': DOUBLE_PRECISION(precision=53),\n",
       "   'nullable': True,\n",
       "   'default': None,\n",
       "   'autoincrement': False,\n",
       "   'comment': None},\n",
       "  {'name': 'Impressions click-through rate (%)',\n",
       "   'type': DOUBLE_PRECISION(precision=53),\n",
       "   'nullable': True,\n",
       "   'default': None,\n",
       "   'autoincrement': False,\n",
       "   'comment': None}]}"
      ]
     },
     "execution_count": 12,
     "metadata": {},
     "output_type": "execute_result"
    }
   ],
   "source": [
    "table_column_dict"
   ]
  },
  {
   "cell_type": "code",
   "execution_count": 27,
   "metadata": {},
   "outputs": [
    {
     "ename": "TypeError",
     "evalue": "string indices must be integers, not 'str'",
     "output_type": "error",
     "traceback": [
      "\u001b[1;31m---------------------------------------------------------------------------\u001b[0m",
      "\u001b[1;31mTypeError\u001b[0m                                 Traceback (most recent call last)",
      "Cell \u001b[1;32mIn[27], line 4\u001b[0m\n\u001b[0;32m      1\u001b[0m dict_ \u001b[38;5;241m=\u001b[39m {}\n\u001b[0;32m      2\u001b[0m \u001b[38;5;28;01mfor\u001b[39;00m key, value \u001b[38;5;129;01min\u001b[39;00m table_column_dict\u001b[38;5;241m.\u001b[39mitems():\n\u001b[0;32m      3\u001b[0m     \u001b[38;5;66;03m# create a dictionary of table name and columns for example like {{Table Name : Cities, Columns : ['Date', 'Cities']}, {Table Name : Content type, Columns : ['Date', 'Content type']}}\u001b[39;00m\n\u001b[1;32m----> 4\u001b[0m     dict_[key] \u001b[38;5;241m=\u001b[39m \u001b[43mvalue\u001b[49m\u001b[43m[\u001b[49m\u001b[38;5;241;43m0\u001b[39;49m\u001b[43m]\u001b[49m\u001b[43m[\u001b[49m\u001b[38;5;124;43m'\u001b[39;49m\u001b[38;5;124;43mname\u001b[39;49m\u001b[38;5;124;43m'\u001b[39;49m\u001b[43m]\u001b[49m\n\u001b[0;32m      5\u001b[0m dict_\n",
      "\u001b[1;31mTypeError\u001b[0m: string indices must be integers, not 'str'"
     ]
    }
   ],
   "source": [
    "dict_ = {}\n",
    "for key, value in table_column_dict.items():\n",
    "    # create a dictionary of table name and columns for example like {{Table Name : Cities, Columns : ['Date', 'Cities']}, {Table Name : Content type, Columns : ['Date', 'Content type']}}\n",
    "    dict_[key] = value[0]['name']\n",
    "    \n",
    "dict_"
   ]
  },
  {
   "cell_type": "code",
   "execution_count": 13,
   "metadata": {},
   "outputs": [
    {
     "data": {
      "text/plain": [
       "{'Cities': ['Date',\n",
       "  'Cities',\n",
       "  'City name_x',\n",
       "  'Views_x',\n",
       "  'City name_y',\n",
       "  'Geography',\n",
       "  'Geography.1',\n",
       "  'Views_y',\n",
       "  'Watch time (hours)',\n",
       "  'Average view duration'],\n",
       " 'Content type': ['Date',\n",
       "  'Content type',\n",
       "  'Views_x',\n",
       "  'Views_y',\n",
       "  'Watch time (hours)',\n",
       "  'Average view duration'],\n",
       " 'Device type': ['Date',\n",
       "  'Device type',\n",
       "  'Views_x',\n",
       "  'Views_y',\n",
       "  'Watch time (hours)',\n",
       "  'Average view duration'],\n",
       " 'Geography': ['Date',\n",
       "  'Geography',\n",
       "  'Views_x',\n",
       "  'Views_y',\n",
       "  'Watch time (hours)',\n",
       "  'Average view duration'],\n",
       " 'New and returning viewers': ['Date',\n",
       "  'New and returning viewers',\n",
       "  'Views_x',\n",
       "  'Views_y',\n",
       "  'Watch time (hours)',\n",
       "  'Average view duration'],\n",
       " 'Operating system': ['Date',\n",
       "  'Operating system',\n",
       "  'Views_x',\n",
       "  'Views_y',\n",
       "  'Watch time (hours)',\n",
       "  'Average view duration'],\n",
       " 'Sharing service': ['Date', 'Sharing service', 'Shares_x', 'Shares_y'],\n",
       " 'Subscription source': ['Date',\n",
       "  'Subscription source',\n",
       "  'Subscribers_x',\n",
       "  'Subscribers_y',\n",
       "  'Subscribers gained',\n",
       "  'Subscribers lost'],\n",
       " 'Subscription status': ['Date',\n",
       "  'Subscription status',\n",
       "  'Views_x',\n",
       "  'Views_y',\n",
       "  'Watch time (hours)',\n",
       "  'Average view duration'],\n",
       " 'Subtitles and CC': ['Date',\n",
       "  'Subtitles and CC',\n",
       "  'Views_x',\n",
       "  'Views_y',\n",
       "  'Watch time (hours)',\n",
       "  'Average view duration'],\n",
       " 'Traffic source': ['Date',\n",
       "  'Traffic source',\n",
       "  'Views_x',\n",
       "  'Views_y',\n",
       "  'Watch time (hours)',\n",
       "  'Average view duration',\n",
       "  'Impressions',\n",
       "  'Impressions click-through rate (%)']}"
      ]
     },
     "execution_count": 13,
     "metadata": {},
     "output_type": "execute_result"
    }
   ],
   "source": [
    "for data in table_column_dict:\n",
    "    #remove all except name and add the nameing Like Table Name for tabl_name and Column for columns\n",
    "    table_column_dict[data] = [i['name'] for i in table_column_dict[data]]\n",
    "table_column_dict"
   ]
  },
  {
   "cell_type": "code",
   "execution_count": 29,
   "metadata": {},
   "outputs": [
    {
     "data": {
      "text/plain": [
       "{'Cities Table Name': 'Cities',\n",
       " 'Cities Columns': ['Date',\n",
       "  'Cities',\n",
       "  'City name_x',\n",
       "  'Views_x',\n",
       "  'City name_y',\n",
       "  'Geography',\n",
       "  'Geography.1',\n",
       "  'Views_y',\n",
       "  'Watch time (hours)',\n",
       "  'Average view duration'],\n",
       " 'Content type Table Name': 'Content type',\n",
       " 'Content type Columns': ['Date',\n",
       "  'Content type',\n",
       "  'Views_x',\n",
       "  'Views_y',\n",
       "  'Watch time (hours)',\n",
       "  'Average view duration'],\n",
       " 'Device type Table Name': 'Device type',\n",
       " 'Device type Columns': ['Date',\n",
       "  'Device type',\n",
       "  'Views_x',\n",
       "  'Views_y',\n",
       "  'Watch time (hours)',\n",
       "  'Average view duration'],\n",
       " 'Geography Table Name': 'Geography',\n",
       " 'Geography Columns': ['Date',\n",
       "  'Geography',\n",
       "  'Views_x',\n",
       "  'Views_y',\n",
       "  'Watch time (hours)',\n",
       "  'Average view duration'],\n",
       " 'New and returning viewers Table Name': 'New and returning viewers',\n",
       " 'New and returning viewers Columns': ['Date',\n",
       "  'New and returning viewers',\n",
       "  'Views_x',\n",
       "  'Views_y',\n",
       "  'Watch time (hours)',\n",
       "  'Average view duration'],\n",
       " 'Operating system Table Name': 'Operating system',\n",
       " 'Operating system Columns': ['Date',\n",
       "  'Operating system',\n",
       "  'Views_x',\n",
       "  'Views_y',\n",
       "  'Watch time (hours)',\n",
       "  'Average view duration'],\n",
       " 'Sharing service Table Name': 'Sharing service',\n",
       " 'Sharing service Columns': ['Date',\n",
       "  'Sharing service',\n",
       "  'Shares_x',\n",
       "  'Shares_y'],\n",
       " 'Subscription source Table Name': 'Subscription source',\n",
       " 'Subscription source Columns': ['Date',\n",
       "  'Subscription source',\n",
       "  'Subscribers_x',\n",
       "  'Subscribers_y',\n",
       "  'Subscribers gained',\n",
       "  'Subscribers lost'],\n",
       " 'Subscription status Table Name': 'Subscription status',\n",
       " 'Subscription status Columns': ['Date',\n",
       "  'Subscription status',\n",
       "  'Views_x',\n",
       "  'Views_y',\n",
       "  'Watch time (hours)',\n",
       "  'Average view duration'],\n",
       " 'Subtitles and CC Table Name': 'Subtitles and CC',\n",
       " 'Subtitles and CC Columns': ['Date',\n",
       "  'Subtitles and CC',\n",
       "  'Views_x',\n",
       "  'Views_y',\n",
       "  'Watch time (hours)',\n",
       "  'Average view duration'],\n",
       " 'Traffic source Table Name': 'Traffic source',\n",
       " 'Traffic source Columns': ['Date',\n",
       "  'Traffic source',\n",
       "  'Views_x',\n",
       "  'Views_y',\n",
       "  'Watch time (hours)',\n",
       "  'Average view duration',\n",
       "  'Impressions',\n",
       "  'Impressions click-through rate (%)']}"
      ]
     },
     "execution_count": 29,
     "metadata": {},
     "output_type": "execute_result"
    }
   ],
   "source": [
    "# name key and values to table name and columns\n",
    "new_table_column_dict = {}\n",
    "for key, value in table_column_dict.items():\n",
    "    new_table_column_dict[key + \" Table Name\"] = key\n",
    "    new_table_column_dict[key + \" Columns\"] = value\n",
    "new_table_column_dict"
   ]
  },
  {
   "cell_type": "code",
   "execution_count": 42,
   "metadata": {},
   "outputs": [
    {
     "name": "stdout",
     "output_type": "stream",
     "text": [
      "Cities Table Name is: Cities and has Columns: Date, Cities, City name_x, Views_x, City name_y, Geography, Geography.1, Views_y, Watch time (hours), Average view duration and \n",
      "Content type Table Name is: Content type and has Columns: Date, Content type, Views_x, Views_y, Watch time (hours), Average view duration and \n",
      "Device type Table Name is: Device type and has Columns: Date, Device type, Views_x, Views_y, Watch time (hours), Average view duration and \n",
      "Geography Table Name is: Geography and has Columns: Date, Geography, Views_x, Views_y, Watch time (hours), Average view duration and \n",
      "New and returning viewers Table Name is: New and returning viewers and has Columns: Date, New and returning viewers, Views_x, Views_y, Watch time (hours), Average view duration and \n",
      "Operating system Table Name is: Operating system and has Columns: Date, Operating system, Views_x, Views_y, Watch time (hours), Average view duration and \n",
      "Sharing service Table Name is: Sharing service and has Columns: Date, Sharing service, Shares_x, Shares_y and \n",
      "Subscription source Table Name is: Subscription source and has Columns: Date, Subscription source, Subscribers_x, Subscribers_y, Subscribers gained, Subscribers lost and \n",
      "Subscription status Table Name is: Subscription status and has Columns: Date, Subscription status, Views_x, Views_y, Watch time (hours), Average view duration and \n",
      "Subtitles and CC Table Name is: Subtitles and CC and has Columns: Date, Subtitles and CC, Views_x, Views_y, Watch time (hours), Average view duration and \n",
      "Traffic source Table Name is: Traffic source and has Columns: Date, Traffic source, Views_x, Views_y, Watch time (hours), Average view duration, Impressions, Impressions click-through rate (%) and \n",
      "\n"
     ]
    }
   ],
   "source": [
    "string = \"\"\n",
    "for key, value in new_table_column_dict.items():\n",
    "    # run the below code every two times\n",
    "    if type(value) == list:\n",
    "        string = string + f' and has Columns: ' + ', '.join(value) + ' and \\n'\n",
    "    else:\n",
    "        string = string + key + ' is: ' + value\n",
    "print(string)"
   ]
  },
  {
   "cell_type": "code",
   "execution_count": 47,
   "metadata": {},
   "outputs": [
    {
     "data": {
      "text/plain": [
       "\"Cities_Table_Name Cities, Cities_Columns ['Date', 'Cities', 'City name_x', 'Views_x', 'City name_y', 'Geography', 'Geography.1', 'Views_y', 'Watch time (hours)', 'Average view duration'], Content_type_Table_Name Content type, Content type_Columns ['Date', 'Content type', 'Views_x', 'Views_y', 'Watch time (hours)', 'Average view duration'], Device_type_Table_Name Device type, Device type_Columns ['Date', 'Device type', 'Views_x', 'Views_y', 'Watch time (hours)', 'Average view duration'], Geography_Table_Name Geography, Geography_Columns ['Date', 'Geography', 'Views_x', 'Views_y', 'Watch time (hours)', 'Average view duration'], New_and_returning_viewers_Table_Name New and returning viewers, New and returning viewers_Columns ['Date', 'New and returning viewers', 'Views_x', 'Views_y', 'Watch time (hours)', 'Average view duration'], Operating_system_Table_Name Operating system, Operating system_Columns ['Date', 'Operating system', 'Views_x', 'Views_y', 'Watch time (hours)', 'Average view duration'], Sharing_service_Table_Name Sharing service, Sharing service_Columns ['Date', 'Sharing service', 'Shares_x', 'Shares_y'], Subscription_source_Table_Name Subscription source, Subscription source_Columns ['Date', 'Subscription source', 'Subscribers_x', 'Subscribers_y', 'Subscribers gained', 'Subscribers lost'], Subscription_status_Table_Name Subscription status, Subscription status_Columns ['Date', 'Subscription status', 'Views_x', 'Views_y', 'Watch time (hours)', 'Average view duration'], Subtitles_and_CC_Table_Name Subtitles and CC, Subtitles and CC_Columns ['Date', 'Subtitles and CC', 'Views_x', 'Views_y', 'Watch time (hours)', 'Average view duration'], Traffic_source_Table_Name Traffic source, Traffic source_Columns ['Date', 'Traffic source', 'Views_x', 'Views_y', 'Watch time (hours)', 'Average view duration', 'Impressions', 'Impressions click-through rate (%)']\""
      ]
     },
     "execution_count": 47,
     "metadata": {},
     "output_type": "execute_result"
    }
   ],
   "source": [
    "# make a string from new_table_column_dict from values and keys delimited by new line\n",
    "\n",
    "new_table_column_string = \", \".join([f'{key} {value}' for key, value in new_table_column_dict.items()])\n",
    "new_table_column_string"
   ]
  },
  {
   "cell_type": "code",
   "execution_count": 128,
   "metadata": {},
   "outputs": [],
   "source": [
    "messages = [\n",
    "    {\"role\": \"system\",\n",
    "        \"content\": f\"You are a helpful assistant who generates SQL queries on the database and responds from the database schema provided only\\\n",
    "        SQL should be written using this table and column data from database schema: {new_table_column_string}\\\n",
    "        Table Names or Column Names when writing SQL MUST ALWAYS be in double quotes EVEN IF THEY ARE A SINGLE WORD, \\\n",
    "        The Database you will be writting SQL queries for is: postgres \\\n",
    "        You are always to the point and ALWAYS generate the SQL query and no additional explanation or text\\\n",
    "        Generate only SQL syntax when prompted about any inquiries regarding SQL queries.\\\n",
    "        The query should be returned in plain text, not in JSON \\\n",
    "        Output should be a fully formed SQL query.\\\n",
    "        Do not use any kind of formatting on your response query such as newlines or indentation finish everything in one line. \\\n",
    "        Don't complicate things. Generate only SQL syntax when prompted about any inquiries regarding SQL queries.\"},\n",
    "    {\"role\": \"user\", \"content\": \"Give me all cities names with there total views and watch time\"}\n",
    "]"
   ]
  },
  {
   "cell_type": "code",
   "execution_count": 121,
   "metadata": {},
   "outputs": [],
   "source": [
    "import requests\n",
    "def chat_completion_request(messages, tools=None, tool_choice=None, model=\"gpt-3.5-turbo-0613\"):\n",
    "    headers = {\n",
    "        \"Content-Type\": \"application/json\",\n",
    "        \"Authorization\": \"Bearer \" + os.getenv(\"OPENAI_API_KEY\"),\n",
    "    }\n",
    "    json_data = {\"model\": model, \"messages\": messages}\n",
    "    if tools is not None:\n",
    "        json_data.update({\"tools\": tools})\n",
    "    if tool_choice is not None:\n",
    "        json_data.update({\"tool_choice\": tool_choice})\n",
    "    try:\n",
    "        response = requests.post(\n",
    "            \"https://api.openai.com/v1/chat/completions\",\n",
    "            headers=headers,\n",
    "            json=json_data,\n",
    "        )\n",
    "        return response.json()\n",
    "    except Exception as e:\n",
    "        print(\"Unable to generate ChatCompletion response\")\n",
    "        print(f\"Exception: {e}\")\n",
    "        return e\n"
   ]
  },
  {
   "cell_type": "code",
   "execution_count": 129,
   "metadata": {},
   "outputs": [
    {
     "data": {
      "text/plain": [
       "{'id': 'chatcmpl-9NLu7joHBjjmDOsv1IYYRWZcac99j',\n",
       " 'object': 'chat.completion',\n",
       " 'created': 1715352771,\n",
       " 'model': 'gpt-3.5-turbo-0613',\n",
       " 'choices': [{'index': 0,\n",
       "   'message': {'role': 'assistant',\n",
       "    'content': 'SELECT \"City name_x\" as \"City Name\", SUM(\"Views_x\") as \"Total Views\", SUM(\"Watch time (hours)\") as \"Total Watch Time\"\\nFROM Cities\\nGROUP BY \"City name_x\";'},\n",
       "   'logprobs': None,\n",
       "   'finish_reason': 'stop'}],\n",
       " 'usage': {'prompt_tokens': 637, 'completion_tokens': 44, 'total_tokens': 681},\n",
       " 'system_fingerprint': None}"
      ]
     },
     "execution_count": 129,
     "metadata": {},
     "output_type": "execute_result"
    }
   ],
   "source": [
    "chat_completion_request(messages)"
   ]
  }
 ],
 "metadata": {
  "kernelspec": {
   "display_name": "chatbot_env",
   "language": "python",
   "name": "python3"
  },
  "language_info": {
   "codemirror_mode": {
    "name": "ipython",
    "version": 3
   },
   "file_extension": ".py",
   "mimetype": "text/x-python",
   "name": "python",
   "nbconvert_exporter": "python",
   "pygments_lexer": "ipython3",
   "version": "3.12.0"
  }
 },
 "nbformat": 4,
 "nbformat_minor": 2
}
