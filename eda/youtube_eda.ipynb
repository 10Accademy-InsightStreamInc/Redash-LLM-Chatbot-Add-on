{
 "cells": [
  {
   "cell_type": "code",
   "execution_count": 1,
   "metadata": {},
   "outputs": [],
   "source": [
    "import pandas as pd \n",
    "import os, sys"
   ]
  },
  {
   "cell_type": "code",
   "execution_count": 2,
   "metadata": {},
   "outputs": [],
   "source": [
    "os.chdir(\"..\")"
   ]
  },
  {
   "cell_type": "code",
   "execution_count": 3,
   "metadata": {},
   "outputs": [
    {
     "data": {
      "text/plain": [
       "'c:\\\\Users\\\\user\\\\Downloads\\\\ten_academy\\\\week3\\\\Redash-LLM-Chatbot-Add-on'"
      ]
     },
     "execution_count": 3,
     "metadata": {},
     "output_type": "execute_result"
    }
   ],
   "source": [
    "os.getcwd()"
   ]
  },
  {
   "cell_type": "code",
   "execution_count": 4,
   "metadata": {},
   "outputs": [],
   "source": [
    "from utils.file_manuplation import ZipExtractor\n",
    "from db.db_conn import DatabaseLoader"
   ]
  },
  {
   "cell_type": "code",
   "execution_count": 5,
   "metadata": {},
   "outputs": [
    {
     "name": "stdout",
     "output_type": "stream",
     "text": [
      "Extracting files from data/unextracted_data to data/extracted_data. and current working directory is c:\\Users\\user\\Downloads\\ten_academy\\week3\\Redash-LLM-Chatbot-Add-on\n"
     ]
    }
   ],
   "source": [
    "extractor = ZipExtractor(folder_path=\"data/unextracted_data\", output_directory=\"data/extracted_data\")"
   ]
  },
  {
   "cell_type": "code",
   "execution_count": 6,
   "metadata": {},
   "outputs": [],
   "source": [
    "db = DatabaseLoader()"
   ]
  },
  {
   "cell_type": "code",
   "execution_count": 7,
   "metadata": {},
   "outputs": [
    {
     "name": "stdout",
     "output_type": "stream",
     "text": [
      "Connected to the database.\n"
     ]
    },
    {
     "data": {
      "text/plain": [
       "<sqlalchemy.engine.base.Connection at 0x1ef517d5970>"
      ]
     },
     "execution_count": 7,
     "metadata": {},
     "output_type": "execute_result"
    }
   ],
   "source": [
    "db.connect()"
   ]
  },
  {
   "cell_type": "code",
   "execution_count": 8,
   "metadata": {},
   "outputs": [
    {
     "name": "stdout",
     "output_type": "stream",
     "text": [
      "Extracting data/unextracted_data\\Cities.zip to data/extracted_data\\Cities.\n",
      "Extracting data/unextracted_data\\Content type.zip to data/extracted_data\\Content type.\n",
      "Extracting data/unextracted_data\\Device type.zip to data/extracted_data\\Device type.\n",
      "Extracting data/unextracted_data\\Geography.zip to data/extracted_data\\Geography.\n",
      "Extracting data/unextracted_data\\New and returning viewers.zip to data/extracted_data\\New and returning viewers.\n",
      "Extracting data/unextracted_data\\Operating system.zip to data/extracted_data\\Operating system.\n",
      "Extracting data/unextracted_data\\Sharing service.zip to data/extracted_data\\Sharing service.\n",
      "Extracting data/unextracted_data\\Subscription source.zip to data/extracted_data\\Subscription source.\n",
      "Extracting data/unextracted_data\\Subscription status.zip to data/extracted_data\\Subscription status.\n",
      "Extracting data/unextracted_data\\Subtitles and CC.zip to data/extracted_data\\Subtitles and CC.\n",
      "Extracting data/unextracted_data\\Traffic source.zip to data/extracted_data\\Traffic source.\n",
      "Extracting data/unextracted_data\\Viewer age.zip to data/extracted_data\\Viewer age.\n",
      "Extracting data/unextracted_data\\Viewer gender.zip to data/extracted_data\\Viewer gender.\n",
      "Extracting data/unextracted_data\\Viewership by Date.zip to data/extracted_data\\Viewership by Date.\n",
      "Extraction completed.\n"
     ]
    }
   ],
   "source": [
    "extractor.extract_files()"
   ]
  },
  {
   "cell_type": "markdown",
   "metadata": {},
   "source": [
    "Seems Like all of the datas extracted cointain the same 3 csv file names\n",
    "- Chart data\n",
    "- Table Data\n",
    "- Totals"
   ]
  },
  {
   "cell_type": "code",
   "execution_count": 9,
   "metadata": {},
   "outputs": [
    {
     "data": {
      "text/plain": [
       "'c:\\\\Users\\\\user\\\\Downloads\\\\ten_academy\\\\week3\\\\Redash-LLM-Chatbot-Add-on'"
      ]
     },
     "execution_count": 9,
     "metadata": {},
     "output_type": "execute_result"
    }
   ],
   "source": [
    "os.getcwd()"
   ]
  },
  {
   "cell_type": "code",
   "execution_count": 8,
   "metadata": {},
   "outputs": [],
   "source": [
    "city_chart = pd.read_csv(\"data/extracted_data/Cities/Chart data.csv\")\n",
    "city_total = pd.read_csv(\"data/extracted_data/Cities/Totals.csv\")\n",
    "city_table = pd.read_csv(\"data/extracted_data/Cities/Table DATA.csv\")"
   ]
  },
  {
   "cell_type": "code",
   "execution_count": 13,
   "metadata": {},
   "outputs": [
    {
     "data": {
      "text/plain": [
       "Date         0\n",
       "Cities       0\n",
       "City name    0\n",
       "Views        0\n",
       "dtype: int64"
      ]
     },
     "execution_count": 13,
     "metadata": {},
     "output_type": "execute_result"
    }
   ],
   "source": [
    "city_chart.isna().sum()"
   ]
  },
  {
   "cell_type": "code",
   "execution_count": 87,
   "metadata": {},
   "outputs": [
    {
     "data": {
      "text/plain": [
       "Date     0\n",
       "Views    0\n",
       "dtype: int64"
      ]
     },
     "execution_count": 87,
     "metadata": {},
     "output_type": "execute_result"
    }
   ],
   "source": [
    "city_total.isna().sum()"
   ]
  },
  {
   "cell_type": "code",
   "execution_count": 62,
   "metadata": {},
   "outputs": [
    {
     "data": {
      "text/html": [
       "<div>\n",
       "<style scoped>\n",
       "    .dataframe tbody tr th:only-of-type {\n",
       "        vertical-align: middle;\n",
       "    }\n",
       "\n",
       "    .dataframe tbody tr th {\n",
       "        vertical-align: top;\n",
       "    }\n",
       "\n",
       "    .dataframe thead th {\n",
       "        text-align: right;\n",
       "    }\n",
       "</style>\n",
       "<table border=\"1\" class=\"dataframe\">\n",
       "  <thead>\n",
       "    <tr style=\"text-align: right;\">\n",
       "      <th></th>\n",
       "      <th>Date</th>\n",
       "      <th>Cities</th>\n",
       "      <th>City name</th>\n",
       "      <th>Views</th>\n",
       "    </tr>\n",
       "  </thead>\n",
       "  <tbody>\n",
       "    <tr>\n",
       "      <th>0</th>\n",
       "      <td>2020-06-28</td>\n",
       "      <td>0x164b85cef5ab402d:0x8467b6b037a24d49</td>\n",
       "      <td>Addis Ababa</td>\n",
       "      <td>0</td>\n",
       "    </tr>\n",
       "    <tr>\n",
       "      <th>1</th>\n",
       "      <td>2020-06-29</td>\n",
       "      <td>0x164b85cef5ab402d:0x8467b6b037a24d49</td>\n",
       "      <td>Addis Ababa</td>\n",
       "      <td>0</td>\n",
       "    </tr>\n",
       "    <tr>\n",
       "      <th>2</th>\n",
       "      <td>2020-06-30</td>\n",
       "      <td>0x164b85cef5ab402d:0x8467b6b037a24d49</td>\n",
       "      <td>Addis Ababa</td>\n",
       "      <td>0</td>\n",
       "    </tr>\n",
       "    <tr>\n",
       "      <th>3</th>\n",
       "      <td>2020-07-01</td>\n",
       "      <td>0x164b85cef5ab402d:0x8467b6b037a24d49</td>\n",
       "      <td>Addis Ababa</td>\n",
       "      <td>0</td>\n",
       "    </tr>\n",
       "    <tr>\n",
       "      <th>4</th>\n",
       "      <td>2020-07-02</td>\n",
       "      <td>0x164b85cef5ab402d:0x8467b6b037a24d49</td>\n",
       "      <td>Addis Ababa</td>\n",
       "      <td>0</td>\n",
       "    </tr>\n",
       "  </tbody>\n",
       "</table>\n",
       "</div>"
      ],
      "text/plain": [
       "         Date                                 Cities    City name  Views\n",
       "0  2020-06-28  0x164b85cef5ab402d:0x8467b6b037a24d49  Addis Ababa      0\n",
       "1  2020-06-29  0x164b85cef5ab402d:0x8467b6b037a24d49  Addis Ababa      0\n",
       "2  2020-06-30  0x164b85cef5ab402d:0x8467b6b037a24d49  Addis Ababa      0\n",
       "3  2020-07-01  0x164b85cef5ab402d:0x8467b6b037a24d49  Addis Ababa      0\n",
       "4  2020-07-02  0x164b85cef5ab402d:0x8467b6b037a24d49  Addis Ababa      0"
      ]
     },
     "execution_count": 62,
     "metadata": {},
     "output_type": "execute_result"
    }
   ],
   "source": [
    "city_chart.head()"
   ]
  },
  {
   "cell_type": "code",
   "execution_count": 65,
   "metadata": {},
   "outputs": [],
   "source": [
    "# sum the number of views by date\n",
    "city_chart_sum = city_chart.groupby('Date').sum()"
   ]
  },
  {
   "cell_type": "code",
   "execution_count": 63,
   "metadata": {},
   "outputs": [],
   "source": [
    "#convert obdect column to datetime\n",
    "city_chart['Date'] = pd.to_datetime(city_chart['Date'])"
   ]
  },
  {
   "cell_type": "code",
   "execution_count": 85,
   "metadata": {},
   "outputs": [
    {
     "name": "stdout",
     "output_type": "stream",
     "text": [
      "Date\n",
      "2020-06-28     0\n",
      "2020-06-29     0\n",
      "2020-06-30     0\n",
      "2020-07-01     0\n",
      "2020-07-02     0\n",
      "              ..\n",
      "2023-12-24     0\n",
      "2023-12-25     0\n",
      "2023-12-26    15\n",
      "2023-12-27     0\n",
      "2023-12-28     0\n",
      "Name: Views, Length: 1279, dtype: int64\n"
     ]
    }
   ],
   "source": [
    "t = city_chart.groupby('Date')['Views'].sum()\n",
    "print(t)"
   ]
  },
  {
   "cell_type": "code",
   "execution_count": 64,
   "metadata": {},
   "outputs": [
    {
     "data": {
      "text/plain": [
       "Date         datetime64[ns]\n",
       "Cities               object\n",
       "City name            object\n",
       "Views                 int64\n",
       "dtype: object"
      ]
     },
     "execution_count": 64,
     "metadata": {},
     "output_type": "execute_result"
    }
   ],
   "source": [
    "city_chart.dtypes"
   ]
  },
  {
   "cell_type": "code",
   "execution_count": 61,
   "metadata": {},
   "outputs": [
    {
     "data": {
      "text/html": [
       "<div>\n",
       "<style scoped>\n",
       "    .dataframe tbody tr th:only-of-type {\n",
       "        vertical-align: middle;\n",
       "    }\n",
       "\n",
       "    .dataframe tbody tr th {\n",
       "        vertical-align: top;\n",
       "    }\n",
       "\n",
       "    .dataframe thead th {\n",
       "        text-align: right;\n",
       "    }\n",
       "</style>\n",
       "<table border=\"1\" class=\"dataframe\">\n",
       "  <thead>\n",
       "    <tr style=\"text-align: right;\">\n",
       "      <th></th>\n",
       "      <th>Cities</th>\n",
       "      <th>City name</th>\n",
       "      <th>Views</th>\n",
       "    </tr>\n",
       "    <tr>\n",
       "      <th>Date</th>\n",
       "      <th></th>\n",
       "      <th></th>\n",
       "      <th></th>\n",
       "    </tr>\n",
       "  </thead>\n",
       "  <tbody>\n",
       "    <tr>\n",
       "      <th>2020-06-28</th>\n",
       "      <td>0x164b85cef5ab402d:0x8467b6b037a24d490x168e8fd...</td>\n",
       "      <td>Addis AbabaKhartoumQuezon CityBusanManchester</td>\n",
       "      <td>0</td>\n",
       "    </tr>\n",
       "    <tr>\n",
       "      <th>2020-06-29</th>\n",
       "      <td>0x164b85cef5ab402d:0x8467b6b037a24d490x168e8fd...</td>\n",
       "      <td>Addis AbabaKhartoumQuezon CityBusanManchester</td>\n",
       "      <td>0</td>\n",
       "    </tr>\n",
       "    <tr>\n",
       "      <th>2020-06-30</th>\n",
       "      <td>0x164b85cef5ab402d:0x8467b6b037a24d490x168e8fd...</td>\n",
       "      <td>Addis AbabaKhartoumQuezon CityBusanManchester</td>\n",
       "      <td>0</td>\n",
       "    </tr>\n",
       "    <tr>\n",
       "      <th>2020-07-01</th>\n",
       "      <td>0x164b85cef5ab402d:0x8467b6b037a24d490x168e8fd...</td>\n",
       "      <td>Addis AbabaKhartoumQuezon CityBusanManchester</td>\n",
       "      <td>0</td>\n",
       "    </tr>\n",
       "    <tr>\n",
       "      <th>2020-07-02</th>\n",
       "      <td>0x164b85cef5ab402d:0x8467b6b037a24d490x168e8fd...</td>\n",
       "      <td>Addis AbabaKhartoumQuezon CityBusanManchester</td>\n",
       "      <td>0</td>\n",
       "    </tr>\n",
       "  </tbody>\n",
       "</table>\n",
       "</div>"
      ],
      "text/plain": [
       "                                                       Cities  \\\n",
       "Date                                                            \n",
       "2020-06-28  0x164b85cef5ab402d:0x8467b6b037a24d490x168e8fd...   \n",
       "2020-06-29  0x164b85cef5ab402d:0x8467b6b037a24d490x168e8fd...   \n",
       "2020-06-30  0x164b85cef5ab402d:0x8467b6b037a24d490x168e8fd...   \n",
       "2020-07-01  0x164b85cef5ab402d:0x8467b6b037a24d490x168e8fd...   \n",
       "2020-07-02  0x164b85cef5ab402d:0x8467b6b037a24d490x168e8fd...   \n",
       "\n",
       "                                                City name  Views  \n",
       "Date                                                              \n",
       "2020-06-28  Addis AbabaKhartoumQuezon CityBusanManchester      0  \n",
       "2020-06-29  Addis AbabaKhartoumQuezon CityBusanManchester      0  \n",
       "2020-06-30  Addis AbabaKhartoumQuezon CityBusanManchester      0  \n",
       "2020-07-01  Addis AbabaKhartoumQuezon CityBusanManchester      0  \n",
       "2020-07-02  Addis AbabaKhartoumQuezon CityBusanManchester      0  "
      ]
     },
     "execution_count": 61,
     "metadata": {},
     "output_type": "execute_result"
    }
   ],
   "source": [
    "city_chart_sum.head()"
   ]
  },
  {
   "cell_type": "code",
   "execution_count": 14,
   "metadata": {},
   "outputs": [
    {
     "data": {
      "text/html": [
       "<div>\n",
       "<style scoped>\n",
       "    .dataframe tbody tr th:only-of-type {\n",
       "        vertical-align: middle;\n",
       "    }\n",
       "\n",
       "    .dataframe tbody tr th {\n",
       "        vertical-align: top;\n",
       "    }\n",
       "\n",
       "    .dataframe thead th {\n",
       "        text-align: right;\n",
       "    }\n",
       "</style>\n",
       "<table border=\"1\" class=\"dataframe\">\n",
       "  <thead>\n",
       "    <tr style=\"text-align: right;\">\n",
       "      <th></th>\n",
       "      <th>Date</th>\n",
       "      <th>Views</th>\n",
       "    </tr>\n",
       "  </thead>\n",
       "  <tbody>\n",
       "    <tr>\n",
       "      <th>0</th>\n",
       "      <td>2020-06-28</td>\n",
       "      <td>1</td>\n",
       "    </tr>\n",
       "    <tr>\n",
       "      <th>1</th>\n",
       "      <td>2020-06-29</td>\n",
       "      <td>72</td>\n",
       "    </tr>\n",
       "    <tr>\n",
       "      <th>2</th>\n",
       "      <td>2020-06-30</td>\n",
       "      <td>76</td>\n",
       "    </tr>\n",
       "    <tr>\n",
       "      <th>3</th>\n",
       "      <td>2020-07-01</td>\n",
       "      <td>70</td>\n",
       "    </tr>\n",
       "    <tr>\n",
       "      <th>4</th>\n",
       "      <td>2020-07-02</td>\n",
       "      <td>57</td>\n",
       "    </tr>\n",
       "  </tbody>\n",
       "</table>\n",
       "</div>"
      ],
      "text/plain": [
       "         Date  Views\n",
       "0  2020-06-28      1\n",
       "1  2020-06-29     72\n",
       "2  2020-06-30     76\n",
       "3  2020-07-01     70\n",
       "4  2020-07-02     57"
      ]
     },
     "execution_count": 14,
     "metadata": {},
     "output_type": "execute_result"
    }
   ],
   "source": [
    "city_total.head()"
   ]
  },
  {
   "cell_type": "code",
   "execution_count": 14,
   "metadata": {},
   "outputs": [],
   "source": [
    "city_chart_table_merge = pd.merge(city_chart, city_table, on=\"City name\", how=\"left\")"
   ]
  },
  {
   "cell_type": "code",
   "execution_count": 15,
   "metadata": {},
   "outputs": [],
   "source": [
    "city_chart_table_merge.drop('Cities_y', axis=1, inplace=True)"
   ]
  },
  {
   "cell_type": "code",
   "execution_count": 16,
   "metadata": {},
   "outputs": [],
   "source": [
    "city_chart_table_merge.rename(columns={'Cities_x': 'Cities', \n",
    "                                       'Views_y': 'Views per City', \n",
    "                                       'Views_x': 'Views per Date',\n",
    "                                       'Watch time (hours)': 'Watch time (hours) per City',\n",
    "                                       'Average view duration': 'Average view duration per City',\n",
    "                                       'Geography': 'Country Code',\n",
    "                                       'Geography.1': 'Country and City Code',\n",
    "                                       }, inplace=True)"
   ]
  },
  {
   "cell_type": "code",
   "execution_count": 21,
   "metadata": {},
   "outputs": [],
   "source": [
    "city_chart_table_merge['Date'] = pd.to_datetime(city_chart_table_merge['Date'])"
   ]
  },
  {
   "cell_type": "code",
   "execution_count": 24,
   "metadata": {},
   "outputs": [
    {
     "data": {
      "text/plain": [
       "Date                              0\n",
       "Cities                            0\n",
       "City name                         0\n",
       "Views per Date                    0\n",
       "Country Code                      0\n",
       "Country and City Code             0\n",
       "Views per City                    0\n",
       "Watch time (hours) per City       0\n",
       "Average view duration per City    0\n",
       "dtype: int64"
      ]
     },
     "execution_count": 24,
     "metadata": {},
     "output_type": "execute_result"
    }
   ],
   "source": [
    "city_chart_table_merge.isna().sum()"
   ]
  },
  {
   "cell_type": "code",
   "execution_count": 22,
   "metadata": {},
   "outputs": [
    {
     "data": {
      "text/plain": [
       "Date                              datetime64[ns]\n",
       "Cities                                    object\n",
       "City name                                 object\n",
       "Views per Date                             int64\n",
       "Country Code                              object\n",
       "Country and City Code                     object\n",
       "Views per City                             int64\n",
       "Watch time (hours) per City              float64\n",
       "Average view duration per City            object\n",
       "dtype: object"
      ]
     },
     "execution_count": 22,
     "metadata": {},
     "output_type": "execute_result"
    }
   ],
   "source": [
    "city_chart_table_merge.dtypes"
   ]
  },
  {
   "cell_type": "code",
   "execution_count": 23,
   "metadata": {},
   "outputs": [
    {
     "data": {
      "text/plain": [
       "395"
      ]
     },
     "execution_count": 23,
     "metadata": {},
     "output_type": "execute_result"
    }
   ],
   "source": [
    "city_chart_table_merge.to_sql(\"Cities\", db.engine, if_exists='append', index=False)"
   ]
  },
  {
   "cell_type": "code",
   "execution_count": 11,
   "metadata": {},
   "outputs": [
    {
     "name": "stdout",
     "output_type": "stream",
     "text": [
      "Data merge and write completed.\n"
     ]
    }
   ],
   "source": [
    "dict_merged_data = extractor.merge_csv_files(db.engine)"
   ]
  },
  {
   "cell_type": "code",
   "execution_count": 12,
   "metadata": {},
   "outputs": [
    {
     "data": {
      "text/plain": [
       "dict_keys(['Cities', 'Content type', 'Device type', 'Geography', 'New and returning viewers', 'Operating system', 'Sharing service', 'Subscription source', 'Subscription status', 'Subtitles and CC', 'Traffic source'])"
      ]
     },
     "execution_count": 12,
     "metadata": {},
     "output_type": "execute_result"
    }
   ],
   "source": [
    "dict_merged_data.keys()"
   ]
  },
  {
   "cell_type": "code",
   "execution_count": 15,
   "metadata": {},
   "outputs": [
    {
     "data": {
      "text/html": [
       "<div>\n",
       "<style scoped>\n",
       "    .dataframe tbody tr th:only-of-type {\n",
       "        vertical-align: middle;\n",
       "    }\n",
       "\n",
       "    .dataframe tbody tr th {\n",
       "        vertical-align: top;\n",
       "    }\n",
       "\n",
       "    .dataframe thead th {\n",
       "        text-align: right;\n",
       "    }\n",
       "</style>\n",
       "<table border=\"1\" class=\"dataframe\">\n",
       "  <thead>\n",
       "    <tr style=\"text-align: right;\">\n",
       "      <th></th>\n",
       "      <th>Date</th>\n",
       "      <th>Cities</th>\n",
       "      <th>City name_x</th>\n",
       "      <th>Views_x</th>\n",
       "      <th>City name_y</th>\n",
       "      <th>Geography</th>\n",
       "      <th>Geography.1</th>\n",
       "      <th>Views_y</th>\n",
       "      <th>Watch time (hours)</th>\n",
       "      <th>Average view duration</th>\n",
       "    </tr>\n",
       "  </thead>\n",
       "  <tbody>\n",
       "    <tr>\n",
       "      <th>0</th>\n",
       "      <td>2020-06-28</td>\n",
       "      <td>0x164b85cef5ab402d:0x8467b6b037a24d49</td>\n",
       "      <td>Addis Ababa</td>\n",
       "      <td>0</td>\n",
       "      <td>Addis Ababa</td>\n",
       "      <td>ET</td>\n",
       "      <td>ET-AA</td>\n",
       "      <td>1252</td>\n",
       "      <td>127.5042</td>\n",
       "      <td>0:06:06</td>\n",
       "    </tr>\n",
       "    <tr>\n",
       "      <th>1</th>\n",
       "      <td>2020-06-29</td>\n",
       "      <td>0x164b85cef5ab402d:0x8467b6b037a24d49</td>\n",
       "      <td>Addis Ababa</td>\n",
       "      <td>0</td>\n",
       "      <td>Addis Ababa</td>\n",
       "      <td>ET</td>\n",
       "      <td>ET-AA</td>\n",
       "      <td>1252</td>\n",
       "      <td>127.5042</td>\n",
       "      <td>0:06:06</td>\n",
       "    </tr>\n",
       "    <tr>\n",
       "      <th>2</th>\n",
       "      <td>2020-06-30</td>\n",
       "      <td>0x164b85cef5ab402d:0x8467b6b037a24d49</td>\n",
       "      <td>Addis Ababa</td>\n",
       "      <td>0</td>\n",
       "      <td>Addis Ababa</td>\n",
       "      <td>ET</td>\n",
       "      <td>ET-AA</td>\n",
       "      <td>1252</td>\n",
       "      <td>127.5042</td>\n",
       "      <td>0:06:06</td>\n",
       "    </tr>\n",
       "    <tr>\n",
       "      <th>3</th>\n",
       "      <td>2020-07-01</td>\n",
       "      <td>0x164b85cef5ab402d:0x8467b6b037a24d49</td>\n",
       "      <td>Addis Ababa</td>\n",
       "      <td>0</td>\n",
       "      <td>Addis Ababa</td>\n",
       "      <td>ET</td>\n",
       "      <td>ET-AA</td>\n",
       "      <td>1252</td>\n",
       "      <td>127.5042</td>\n",
       "      <td>0:06:06</td>\n",
       "    </tr>\n",
       "    <tr>\n",
       "      <th>4</th>\n",
       "      <td>2020-07-02</td>\n",
       "      <td>0x164b85cef5ab402d:0x8467b6b037a24d49</td>\n",
       "      <td>Addis Ababa</td>\n",
       "      <td>0</td>\n",
       "      <td>Addis Ababa</td>\n",
       "      <td>ET</td>\n",
       "      <td>ET-AA</td>\n",
       "      <td>1252</td>\n",
       "      <td>127.5042</td>\n",
       "      <td>0:06:06</td>\n",
       "    </tr>\n",
       "  </tbody>\n",
       "</table>\n",
       "</div>"
      ],
      "text/plain": [
       "         Date                                 Cities  City name_x  Views_x  \\\n",
       "0  2020-06-28  0x164b85cef5ab402d:0x8467b6b037a24d49  Addis Ababa        0   \n",
       "1  2020-06-29  0x164b85cef5ab402d:0x8467b6b037a24d49  Addis Ababa        0   \n",
       "2  2020-06-30  0x164b85cef5ab402d:0x8467b6b037a24d49  Addis Ababa        0   \n",
       "3  2020-07-01  0x164b85cef5ab402d:0x8467b6b037a24d49  Addis Ababa        0   \n",
       "4  2020-07-02  0x164b85cef5ab402d:0x8467b6b037a24d49  Addis Ababa        0   \n",
       "\n",
       "   City name_y Geography Geography.1  Views_y  Watch time (hours)  \\\n",
       "0  Addis Ababa        ET       ET-AA     1252            127.5042   \n",
       "1  Addis Ababa        ET       ET-AA     1252            127.5042   \n",
       "2  Addis Ababa        ET       ET-AA     1252            127.5042   \n",
       "3  Addis Ababa        ET       ET-AA     1252            127.5042   \n",
       "4  Addis Ababa        ET       ET-AA     1252            127.5042   \n",
       "\n",
       "  Average view duration  \n",
       "0               0:06:06  \n",
       "1               0:06:06  \n",
       "2               0:06:06  \n",
       "3               0:06:06  \n",
       "4               0:06:06  "
      ]
     },
     "execution_count": 15,
     "metadata": {},
     "output_type": "execute_result"
    }
   ],
   "source": [
    "dict_merged_data.get('Cities').head()"
   ]
  },
  {
   "cell_type": "code",
   "execution_count": 14,
   "metadata": {},
   "outputs": [],
   "source": [
    "for table_name, merged_data in dict_merged_data.items():\n",
    "    # Write the merged data to a database table\n",
    "    merged_data.to_sql(table_name, db.engine, if_exists=\"replace\", index=False)"
   ]
  }
 ],
 "metadata": {
  "kernelspec": {
   "display_name": "chatbot_env",
   "language": "python",
   "name": "python3"
  },
  "language_info": {
   "codemirror_mode": {
    "name": "ipython",
    "version": 3
   },
   "file_extension": ".py",
   "mimetype": "text/x-python",
   "name": "python",
   "nbconvert_exporter": "python",
   "pygments_lexer": "ipython3",
   "version": "3.12.0"
  }
 },
 "nbformat": 4,
 "nbformat_minor": 2
}
